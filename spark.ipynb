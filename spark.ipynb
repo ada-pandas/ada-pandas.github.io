{
 "cells": [
  {
   "cell_type": "code",
   "execution_count": 1,
   "metadata": {},
   "outputs": [],
   "source": [
    "import pandas as pd\n",
    "import numpy as np\n",
    "import matplotlib.pyplot as plt\n",
    "%matplotlib inline\n",
    "\n",
    "from pyspark.sql import *\n",
    "from pyspark.sql.functions import *\n",
    "from pyspark import SparkContext"
   ]
  },
  {
   "cell_type": "markdown",
   "metadata": {},
   "source": [
    "As soon as we will do most of the work on the cluster, here we will show how we deal with data on a small subsample (`data_min`)"
   ]
  },
  {
   "cell_type": "code",
   "execution_count": 2,
   "metadata": {},
   "outputs": [],
   "source": [
    "# create the session\n",
    "spark = SparkSession.builder.getOrCreate()\n",
    "\n",
    "# create the context\n",
    "sc = spark.sparkContext"
   ]
  },
  {
   "cell_type": "code",
   "execution_count": 3,
   "metadata": {},
   "outputs": [],
   "source": [
    "from pyspark.sql.types import *"
   ]
  },
  {
   "cell_type": "markdown",
   "metadata": {},
   "source": [
    "Load the data according to a schema and delete the columns we do not need:"
   ]
  },
  {
   "cell_type": "code",
   "execution_count": 4,
   "metadata": {},
   "outputs": [],
   "source": [
    "schema = StructType([StructField('Country', StringType(), True),\n",
    "                     StructField('Namespace', StringType(), True),\n",
    "                     StructField('AirQualityNetwork', StringType(), True),\n",
    "                     StructField('AirQualityStation', StringType(), True),\n",
    "                     StructField('EoICode', StringType(), True),\n",
    "                     StructField('SamplingPoint', StringType(), True),\n",
    "                     StructField('SamplingProcess', StringType(), True),\n",
    "                     StructField('Sample', StringType(), True),\n",
    "                     StructField('Pollutant', StringType(), True),\n",
    "                     StructField('AirPollutantCode', StringType(), True),\n",
    "                     StructField('AveragingTime', StringType(), True),\n",
    "                     StructField('Concentration', FloatType(), True),\n",
    "                     StructField('Unit', StringType(), True),\n",
    "                     StructField('DatetimeBegin', TimestampType(), True),\n",
    "                     StructField('DatetimeEnd', TimestampType(), True),\n",
    "                     StructField('Validity', IntegerType(), True),\n",
    "                     StructField('Verification', IntegerType(), True)])"
   ]
  },
  {
   "cell_type": "code",
   "execution_count": 5,
   "metadata": {},
   "outputs": [],
   "source": [
    "df = spark.read.format(\"com.databricks.spark.csv\").option(\"inferSchema\", \"true\") \\\n",
    ".option(\"timestampFormat\", \"yyyy-mm-dd hh:mm:ss XXX\") \\\n",
    ".csv('./data_min/*/*', schema=schema, header=True) \\\n",
    ".drop(\"Namespace\", \"AirQualityStation\", \"AirQualityNetwork\", \"SamplingPoint\", \"SamplingProcess\", \"Sample\", \"AirPollutantCode\")"
   ]
  },
  {
   "cell_type": "markdown",
   "metadata": {},
   "source": [
    "Now the schema is the following:"
   ]
  },
  {
   "cell_type": "markdown",
   "metadata": {},
   "source": [
    "| Field         | Type      | Description                                                    |\n",
    "|---------------|-----------|----------------------------------------------------------------|\n",
    "| Country       | String    | 2-letter country code                                          |\n",
    "| EoICode       | String    | Unique station identifier                                      |\n",
    "| Pollutant     | String    | Short name of pollutant                                        |\n",
    "| AveragingTime | String    | Time for which the measurement has been taken (hour, day, etc) |\n",
    "| Concentration | Float     | The measured value/concentration                               |\n",
    "| Unit          | String    | Defines the unit of the concentration                          |\n",
    "| DatetimeBegin | Timestamp | Start time (yyyy-mm-dd hh:mm:ss Z) of the measurement          |\n",
    "| DatetimeEnd   | Timestamp | End time (yyyy-mm-dd hh:mm:ss Z) of the measurement            |\n",
    "| Validity      | Integer   | The validity flag for the measurement                          |\n",
    "| Verification  | Integer   | The verification flag for the measurement.                     |"
   ]
  },
  {
   "cell_type": "code",
   "execution_count": 8,
   "metadata": {
    "scrolled": true
   },
   "outputs": [
    {
     "name": "stdout",
     "output_type": "stream",
     "text": [
      "+-------+-------+---------+-------------+-------------+-----+-------------------+-------------------+--------+------------+\n",
      "|Country|EoICode|Pollutant|AveragingTime|Concentration| Unit|      DatetimeBegin|        DatetimeEnd|Validity|Verification|\n",
      "+-------+-------+---------+-------------+-------------+-----+-------------------+-------------------+--------+------------+\n",
      "|     GB|GB0906A|       CO|         hour|     0.038925|mg/m3|2018-01-01 00:00:00|2018-01-01 01:00:00|       2|           1|\n",
      "|     GB|GB0906A|       CO|         hour|     0.048175|mg/m3|2018-01-01 01:00:00|2018-01-01 02:00:00|       2|           1|\n",
      "|     GB|GB0906A|       CO|         hour|     0.048175|mg/m3|2018-01-01 02:00:00|2018-01-01 03:00:00|       2|           1|\n",
      "|     GB|GB0906A|       CO|         hour|     0.038911|mg/m3|2018-01-01 03:00:00|2018-01-01 04:00:00|       2|           1|\n",
      "|     GB|GB0906A|       CO|         hour|     0.052807|mg/m3|2018-01-01 04:00:00|2018-01-01 05:00:00|       2|           1|\n",
      "|     GB|GB0906A|       CO|         hour|      0.16398|mg/m3|2018-01-01 05:00:00|2018-01-01 06:00:00|       2|           1|\n",
      "|     GB|GB0906A|       CO|         hour|     0.200112|mg/m3|2018-01-01 06:00:00|2018-01-01 07:00:00|       2|           1|\n",
      "|     GB|GB0906A|       CO|         hour|     0.489162|mg/m3|2018-01-01 07:00:00|2018-01-01 08:00:00|       1|           1|\n",
      "|     GB|GB0906A|       CO|         hour|      0.28905|mg/m3|2018-01-01 08:00:00|2018-01-01 09:00:00|       2|           1|\n",
      "|     GB|GB0906A|       CO|         hour|     0.678156|mg/m3|2018-01-01 09:00:00|2018-01-01 10:00:00|       1|           1|\n",
      "+-------+-------+---------+-------------+-------------+-----+-------------------+-------------------+--------+------------+\n",
      "only showing top 10 rows\n",
      "\n"
     ]
    }
   ],
   "source": [
    "df.show(10)"
   ]
  },
  {
   "cell_type": "markdown",
   "metadata": {},
   "source": [
    "*Validity* can take 5 different values:  \n",
    "**-99** - Not valid due to station maintenance or calibration  \n",
    "**-1** - Not valid  \n",
    "**1** - Valid  \n",
    "**2** - Valid, but below detection limit measurement value given  \n",
    "**3** - Valid, but below detection limit and number replaced by 0.5 * detection_limit"
   ]
  },
  {
   "cell_type": "markdown",
   "metadata": {},
   "source": [
    "*Verificaton* can take 3 different values:  \n",
    "**1** - Verified  \n",
    "**2** - Preliminary verified  \n",
    "**3** - Not verified"
   ]
  },
  {
   "cell_type": "markdown",
   "metadata": {},
   "source": [
    "Total number of lines:"
   ]
  },
  {
   "cell_type": "code",
   "execution_count": 9,
   "metadata": {},
   "outputs": [
    {
     "data": {
      "text/plain": [
       "323784"
      ]
     },
     "execution_count": 9,
     "metadata": {},
     "output_type": "execute_result"
    }
   ],
   "source": [
    "df.count()"
   ]
  },
  {
   "cell_type": "markdown",
   "metadata": {},
   "source": [
    "We found one type of missing and incorrect values which is not covered by validity-verification pair: measurement value below zero."
   ]
  },
  {
   "cell_type": "code",
   "execution_count": 14,
   "metadata": {},
   "outputs": [
    {
     "name": "stdout",
     "output_type": "stream",
     "text": [
      "+-------+-------+---------+-------------+-------------+-----+-------------------+-------------------+--------+------------+\n",
      "|Country|EoICode|Pollutant|AveragingTime|Concentration| Unit|      DatetimeBegin|        DatetimeEnd|Validity|Verification|\n",
      "+-------+-------+---------+-------------+-------------+-----+-------------------+-------------------+--------+------------+\n",
      "|     IE|IE0028A|      SO2|         hour|        -0.53|µg/m3|2018-01-24 08:00:00|2018-01-24 09:00:00|       1|           1|\n",
      "|     IE|IE001CM|      SO2|         hour|       -0.266|µg/m3|2018-01-20 15:00:00|2018-01-20 16:00:00|       1|           1|\n",
      "|     IE|IE001CM|      SO2|         hour|       -0.532|µg/m3|2018-01-20 16:00:00|2018-01-20 17:00:00|       1|           1|\n",
      "|     IE|IE001CM|      SO2|         hour|       -0.266|µg/m3|2018-01-21 04:00:00|2018-01-21 05:00:00|       1|           1|\n",
      "|     IE|IE001CM|      SO2|         hour|       -0.266|µg/m3|2018-01-16 15:00:00|2018-01-16 16:00:00|       1|           1|\n",
      "+-------+-------+---------+-------------+-------------+-----+-------------------+-------------------+--------+------------+\n",
      "only showing top 5 rows\n",
      "\n"
     ]
    }
   ],
   "source": [
    "df.select(\"*\").where(df.Concentration < 0).show(5)"
   ]
  },
  {
   "cell_type": "markdown",
   "metadata": {},
   "source": [
    "Other inconsistencies, including `null` values are covered:"
   ]
  },
  {
   "cell_type": "code",
   "execution_count": 22,
   "metadata": {},
   "outputs": [
    {
     "name": "stdout",
     "output_type": "stream",
     "text": [
      "+-------+-------+---------+-------------+-------------+-----+-------------------+-------------------+--------+------------+\n",
      "|Country|EoICode|Pollutant|AveragingTime|Concentration| Unit|      DatetimeBegin|        DatetimeEnd|Validity|Verification|\n",
      "+-------+-------+---------+-------------+-------------+-----+-------------------+-------------------+--------+------------+\n",
      "|     GB|GB0906A|       CO|         hour|         null|mg/m3|2018-01-19 15:00:00|2018-01-19 16:00:00|      -1|           1|\n",
      "|     GB|GB0906A|       CO|         hour|         null|mg/m3|2018-01-19 16:00:00|2018-01-19 17:00:00|      -1|           1|\n",
      "|     GB|GB0906A|       CO|         hour|         null|mg/m3|2018-01-06 15:00:00|2018-01-06 16:00:00|      -1|           1|\n",
      "|     GB|GB0906A|       CO|         hour|         null|mg/m3|2018-01-06 16:00:00|2018-01-06 17:00:00|      -1|           1|\n",
      "|     GB|GB0906A|       CO|         hour|         null|mg/m3|2018-01-07 11:00:00|2018-01-07 00:00:00|      -1|           1|\n",
      "+-------+-------+---------+-------------+-------------+-----+-------------------+-------------------+--------+------------+\n",
      "only showing top 5 rows\n",
      "\n"
     ]
    }
   ],
   "source": [
    "df.select(\"*\").where(df.Concentration.isNull()).show(5)"
   ]
  },
  {
   "cell_type": "markdown",
   "metadata": {},
   "source": [
    "So, we have to filter those values in each query."
   ]
  },
  {
   "cell_type": "markdown",
   "metadata": {},
   "source": [
    "Also, we have files containing all the information about the stations and the areas of European countries:"
   ]
  },
  {
   "cell_type": "code",
   "execution_count": 4,
   "metadata": {},
   "outputs": [],
   "source": [
    "import numpy as np\n",
    "import re\n",
    "import matplotlib.pyplot as plt\n",
    "import pandas as pd\n",
    "from os import listdir\n",
    "from os.path import isfile, join, isdir\n",
    "\n",
    "RELATIVE_DATA_PATH = './data'\n",
    "# Load metadata\n",
    "metadata = pd.read_csv(join(RELATIVE_DATA_PATH, 'metadata.csv'))\n",
    "# Load file containing the areas of the EU countries:\n",
    "area = pd.read_csv('area.csv')"
   ]
  },
  {
   "cell_type": "markdown",
   "metadata": {},
   "source": [
    "`metadata.csv` has the following structure"
   ]
  },
  {
   "cell_type": "markdown",
   "metadata": {},
   "source": [
    "| Field                    | Type    | Description                                                                                                               |\n",
    "|--------------------------|---------|---------------------------------------------------------------------------------------------------------------------------|\n",
    "| Countrycode              | String  | Country iso code                                                                                                          |\n",
    "| Namespace                | String  | Namespace of network                                                                                                      |\n",
    "| AirQualityNetwork        | String  | Network identifier                                                                                                        |\n",
    "| AirQualityStation        | String  | Localid of station                                                                                                        |\n",
    "| AirQualityNatCode        | String  | National code of station                                                                                                  |\n",
    "| AirQualityStationEoICode | String  | Station EoI code as used in the past AirBase system                                                                       |\n",
    "| AirQualityStationArea    | String  | Reference to area code. Full list at http://dd.eionet.europa.eu/vocabulary/aq/areaclassification/view                     |\n",
    "| SamplingPoint            | String  | Localid of samplingpoint                                                                                                  |\n",
    "| SamplingProcess          | String  | Localid of process                                                                                                        |\n",
    "| Sample                   | String  | Localid of sample (also known as feature of interest)                                                                     |\n",
    "| BuildingDistance         | Integer | Distance to building (m). Value of -999 indicate unknown                                                                  |\n",
    "| EquivalenceDemonstrated  | String  | Reference to demonstrated equivalence. Full list at http://dd.eionet.europa.eu/vocabulary/aq/equivalencedemonstrated/view |\n",
    "| InLetHeight              | Integer | Height of inlet (m). Value of -999 indicate unknown                                                                       |\n",
    "| KerpDistance             | Integer | Distance to kerp (m). Value of -999 indicate unknown                                                                      |\n",
    "| MeasurementEquipment     | String  | Refernce (URL) to measurement equipment                                                                                   |\n",
    "| MeasurementType          | String  | Reference to measurement type (full list at http://dd.eionet.europa.eu/vocabulary/aq/measurementtype/view)                |\n",
    "| MeasurementMethod        | String  | Reference to measurement method (full list at http://dd.eionet.europa.eu/vocabulary/aq/measurementmethod/view)            |\n",
    "| AirPollutantCode         | String  | Reference (URL) to pollutant definition in data dictionary                                                                |\n",
    "| AirPollutant             | String  | Short pollutant name measured at this samplingpoint                                                                       |\n",
    "| AirQualityStationType    | String  | Short name of station type (full list at http://dd.eionet.europa.eu/vocabulary/aq/stationclassification/view)             |\n",
    "| Projection               | String  | Reference to projection                                                                                                   |\n",
    "| Longitude                | Decimal | Longitude of samplingpoint                                                                                                |\n",
    "| Latitude                 | Decimal | Latitude of samplingpoint                                                                                                 |\n",
    "| Altitude                 | Integer | Altitude of samplingpoint (m)  "
   ]
  },
  {
   "cell_type": "markdown",
   "metadata": {},
   "source": [
    "Some columns in `metadata` contain missing values but we do not need them, so no additional preprocessing is required."
   ]
  },
  {
   "cell_type": "code",
   "execution_count": 5,
   "metadata": {},
   "outputs": [
    {
     "data": {
      "text/html": [
       "<div>\n",
       "<style scoped>\n",
       "    .dataframe tbody tr th:only-of-type {\n",
       "        vertical-align: middle;\n",
       "    }\n",
       "\n",
       "    .dataframe tbody tr th {\n",
       "        vertical-align: top;\n",
       "    }\n",
       "\n",
       "    .dataframe thead th {\n",
       "        text-align: right;\n",
       "    }\n",
       "</style>\n",
       "<table border=\"1\" class=\"dataframe\">\n",
       "  <thead>\n",
       "    <tr style=\"text-align: right;\">\n",
       "      <th></th>\n",
       "      <th>Countrycode</th>\n",
       "      <th>Namespace</th>\n",
       "      <th>AirQualityNetwork</th>\n",
       "      <th>AirQualityStation</th>\n",
       "      <th>AirQualityStationNatCode</th>\n",
       "      <th>AirQualityStationEoICode</th>\n",
       "      <th>AirQualityStationArea</th>\n",
       "      <th>SamplingPoint</th>\n",
       "      <th>SamplingProcess</th>\n",
       "      <th>Sample</th>\n",
       "      <th>...</th>\n",
       "      <th>MeasurementEquipment</th>\n",
       "      <th>MeasurementType</th>\n",
       "      <th>MeasurementMethod</th>\n",
       "      <th>AirPollutantCode</th>\n",
       "      <th>AirPollutant</th>\n",
       "      <th>AirQualityStationType</th>\n",
       "      <th>Projection</th>\n",
       "      <th>Longitude</th>\n",
       "      <th>Latitude</th>\n",
       "      <th>Altitude</th>\n",
       "    </tr>\n",
       "  </thead>\n",
       "  <tbody>\n",
       "    <tr>\n",
       "      <th>47219</th>\n",
       "      <td>PL</td>\n",
       "      <td>PL.CIEP.AQ</td>\n",
       "      <td>NET_PL_LD_AQ</td>\n",
       "      <td>STA_PL0510A</td>\n",
       "      <td>LdPioTrSienk</td>\n",
       "      <td>PL0510A</td>\n",
       "      <td>urban</td>\n",
       "      <td>SPO_PL0510A_6001_001</td>\n",
       "      <td>SPP_PL0510A_6001_001</td>\n",
       "      <td>SAM_PL0510A_6001_001</td>\n",
       "      <td>...</td>\n",
       "      <td>NaN</td>\n",
       "      <td>active</td>\n",
       "      <td>NaN</td>\n",
       "      <td>http://dd.eionet.europa.eu/vocabulary/aq/pollu...</td>\n",
       "      <td>PM2.5</td>\n",
       "      <td>background</td>\n",
       "      <td>EPSG:4979</td>\n",
       "      <td>19.688694</td>\n",
       "      <td>51.407844</td>\n",
       "      <td>198.0</td>\n",
       "    </tr>\n",
       "    <tr>\n",
       "      <th>29771</th>\n",
       "      <td>FR</td>\n",
       "      <td>FR.LCSQA-INERIS.AQ</td>\n",
       "      <td>NET-FR035A</td>\n",
       "      <td>STA-FR23124</td>\n",
       "      <td>FR23124</td>\n",
       "      <td>FR23124</td>\n",
       "      <td>rural-remote</td>\n",
       "      <td>SPO-FR23124_00005_100</td>\n",
       "      <td>SPP-FR_A_TEOM_D9099</td>\n",
       "      <td>SPO_F-FR23124_00005_100_100</td>\n",
       "      <td>...</td>\n",
       "      <td>NaN</td>\n",
       "      <td>automatic</td>\n",
       "      <td>http://dd.eionet.europa.eu/vocabulary/aq/measu...</td>\n",
       "      <td>http://dd.eionet.europa.eu/vocabulary/aq/pollu...</td>\n",
       "      <td>PM10</td>\n",
       "      <td>background</td>\n",
       "      <td>EPSG:4979</td>\n",
       "      <td>-0.743681</td>\n",
       "      <td>46.656683</td>\n",
       "      <td>100.0</td>\n",
       "    </tr>\n",
       "    <tr>\n",
       "      <th>30198</th>\n",
       "      <td>FR</td>\n",
       "      <td>FR.LCSQA-INERIS.AQ</td>\n",
       "      <td>NET-FR069A</td>\n",
       "      <td>STA-FR25036</td>\n",
       "      <td>FR25036</td>\n",
       "      <td>FR25036</td>\n",
       "      <td>urban</td>\n",
       "      <td>SPO-FR25036_00007_100</td>\n",
       "      <td>SPP-FR_A_UV-P_D9045</td>\n",
       "      <td>SPO_F-FR25036_00007_100_100</td>\n",
       "      <td>...</td>\n",
       "      <td>NaN</td>\n",
       "      <td>automatic</td>\n",
       "      <td>http://dd.eionet.europa.eu/vocabulary/aq/measu...</td>\n",
       "      <td>http://dd.eionet.europa.eu/vocabulary/aq/pollu...</td>\n",
       "      <td>O3</td>\n",
       "      <td>background</td>\n",
       "      <td>EPSG:4979</td>\n",
       "      <td>1.093694</td>\n",
       "      <td>49.442458</td>\n",
       "      <td>17.0</td>\n",
       "    </tr>\n",
       "    <tr>\n",
       "      <th>11994</th>\n",
       "      <td>DE</td>\n",
       "      <td>http://gdi.uba.de/arcgis/rest/services/inspire...</td>\n",
       "      <td>NET.DE_BW</td>\n",
       "      <td>STA.DE_DEBW126</td>\n",
       "      <td>DEBW126</td>\n",
       "      <td>DEBW126</td>\n",
       "      <td>urban</td>\n",
       "      <td>SPO.DE_DEBW126_NO2_dataGroup3</td>\n",
       "      <td>SPP.DE_DEBW126_NO2_passive_passiveadsorbant_IC...</td>\n",
       "      <td>SAM.DE_DEBW126_1</td>\n",
       "      <td>...</td>\n",
       "      <td>NaN</td>\n",
       "      <td>passive</td>\n",
       "      <td>NaN</td>\n",
       "      <td>http://dd.eionet.europa.eu/vocabulary/aq/pollu...</td>\n",
       "      <td>NO2</td>\n",
       "      <td>traffic</td>\n",
       "      <td>EPSG:4979</td>\n",
       "      <td>8.369270</td>\n",
       "      <td>49.005360</td>\n",
       "      <td>117.0</td>\n",
       "    </tr>\n",
       "    <tr>\n",
       "      <th>49577</th>\n",
       "      <td>RO</td>\n",
       "      <td>RO.ANPM.AQ</td>\n",
       "      <td>NET-RO017A</td>\n",
       "      <td>STA-RO0077A</td>\n",
       "      <td>CLU5</td>\n",
       "      <td>RO0077A</td>\n",
       "      <td>urban</td>\n",
       "      <td>SPO-RO0077A_00007_100</td>\n",
       "      <td>SPP-RO_A_UV-P_01098</td>\n",
       "      <td>SPO_F-RO0077A_00007_100_100</td>\n",
       "      <td>...</td>\n",
       "      <td>http://dd.eionet.europa.eu/vocabulary/aq/measu...</td>\n",
       "      <td>automatic</td>\n",
       "      <td>http://dd.eionet.europa.eu/vocabulary/aq/measu...</td>\n",
       "      <td>http://dd.eionet.europa.eu/vocabulary/aq/pollu...</td>\n",
       "      <td>O3</td>\n",
       "      <td>background</td>\n",
       "      <td>EPSG:4979</td>\n",
       "      <td>23.877501</td>\n",
       "      <td>47.153889</td>\n",
       "      <td>279.0</td>\n",
       "    </tr>\n",
       "  </tbody>\n",
       "</table>\n",
       "<p>5 rows × 24 columns</p>\n",
       "</div>"
      ],
      "text/plain": [
       "      Countrycode                                          Namespace  \\\n",
       "47219          PL                                         PL.CIEP.AQ   \n",
       "29771          FR                                 FR.LCSQA-INERIS.AQ   \n",
       "30198          FR                                 FR.LCSQA-INERIS.AQ   \n",
       "11994          DE  http://gdi.uba.de/arcgis/rest/services/inspire...   \n",
       "49577          RO                                         RO.ANPM.AQ   \n",
       "\n",
       "      AirQualityNetwork AirQualityStation AirQualityStationNatCode  \\\n",
       "47219      NET_PL_LD_AQ       STA_PL0510A             LdPioTrSienk   \n",
       "29771        NET-FR035A       STA-FR23124                  FR23124   \n",
       "30198        NET-FR069A       STA-FR25036                  FR25036   \n",
       "11994         NET.DE_BW    STA.DE_DEBW126                  DEBW126   \n",
       "49577        NET-RO017A       STA-RO0077A                     CLU5   \n",
       "\n",
       "      AirQualityStationEoICode AirQualityStationArea  \\\n",
       "47219                  PL0510A                 urban   \n",
       "29771                  FR23124          rural-remote   \n",
       "30198                  FR25036                 urban   \n",
       "11994                  DEBW126                 urban   \n",
       "49577                  RO0077A                 urban   \n",
       "\n",
       "                       SamplingPoint  \\\n",
       "47219           SPO_PL0510A_6001_001   \n",
       "29771          SPO-FR23124_00005_100   \n",
       "30198          SPO-FR25036_00007_100   \n",
       "11994  SPO.DE_DEBW126_NO2_dataGroup3   \n",
       "49577          SPO-RO0077A_00007_100   \n",
       "\n",
       "                                         SamplingProcess  \\\n",
       "47219                               SPP_PL0510A_6001_001   \n",
       "29771                                SPP-FR_A_TEOM_D9099   \n",
       "30198                                SPP-FR_A_UV-P_D9045   \n",
       "11994  SPP.DE_DEBW126_NO2_passive_passiveadsorbant_IC...   \n",
       "49577                                SPP-RO_A_UV-P_01098   \n",
       "\n",
       "                            Sample  ...  \\\n",
       "47219         SAM_PL0510A_6001_001  ...   \n",
       "29771  SPO_F-FR23124_00005_100_100  ...   \n",
       "30198  SPO_F-FR25036_00007_100_100  ...   \n",
       "11994             SAM.DE_DEBW126_1  ...   \n",
       "49577  SPO_F-RO0077A_00007_100_100  ...   \n",
       "\n",
       "                                    MeasurementEquipment MeasurementType  \\\n",
       "47219                                                NaN          active   \n",
       "29771                                                NaN       automatic   \n",
       "30198                                                NaN       automatic   \n",
       "11994                                                NaN         passive   \n",
       "49577  http://dd.eionet.europa.eu/vocabulary/aq/measu...       automatic   \n",
       "\n",
       "                                       MeasurementMethod  \\\n",
       "47219                                                NaN   \n",
       "29771  http://dd.eionet.europa.eu/vocabulary/aq/measu...   \n",
       "30198  http://dd.eionet.europa.eu/vocabulary/aq/measu...   \n",
       "11994                                                NaN   \n",
       "49577  http://dd.eionet.europa.eu/vocabulary/aq/measu...   \n",
       "\n",
       "                                        AirPollutantCode AirPollutant  \\\n",
       "47219  http://dd.eionet.europa.eu/vocabulary/aq/pollu...        PM2.5   \n",
       "29771  http://dd.eionet.europa.eu/vocabulary/aq/pollu...         PM10   \n",
       "30198  http://dd.eionet.europa.eu/vocabulary/aq/pollu...           O3   \n",
       "11994  http://dd.eionet.europa.eu/vocabulary/aq/pollu...          NO2   \n",
       "49577  http://dd.eionet.europa.eu/vocabulary/aq/pollu...           O3   \n",
       "\n",
       "      AirQualityStationType Projection  Longitude   Latitude Altitude  \n",
       "47219            background  EPSG:4979  19.688694  51.407844    198.0  \n",
       "29771            background  EPSG:4979  -0.743681  46.656683    100.0  \n",
       "30198            background  EPSG:4979   1.093694  49.442458     17.0  \n",
       "11994               traffic  EPSG:4979   8.369270  49.005360    117.0  \n",
       "49577            background  EPSG:4979  23.877501  47.153889    279.0  \n",
       "\n",
       "[5 rows x 24 columns]"
      ]
     },
     "execution_count": 5,
     "metadata": {},
     "output_type": "execute_result"
    }
   ],
   "source": [
    "metadata.sample(5)"
   ]
  },
  {
   "cell_type": "markdown",
   "metadata": {},
   "source": [
    "We began our analysis with calculation station densities per km2 and plotting them on the map."
   ]
  },
  {
   "cell_type": "code",
   "execution_count": 12,
   "metadata": {},
   "outputs": [
    {
     "data": {
      "text/html": [
       "<div>\n",
       "<style scoped>\n",
       "    .dataframe tbody tr th:only-of-type {\n",
       "        vertical-align: middle;\n",
       "    }\n",
       "\n",
       "    .dataframe tbody tr th {\n",
       "        vertical-align: top;\n",
       "    }\n",
       "\n",
       "    .dataframe thead th {\n",
       "        text-align: right;\n",
       "    }\n",
       "</style>\n",
       "<table border=\"1\" class=\"dataframe\">\n",
       "  <thead>\n",
       "    <tr style=\"text-align: right;\">\n",
       "      <th></th>\n",
       "      <th>name</th>\n",
       "      <th>Countrycode</th>\n",
       "      <th>Area</th>\n",
       "      <th>AirQualityStationEoICode</th>\n",
       "      <th>density</th>\n",
       "    </tr>\n",
       "  </thead>\n",
       "  <tbody>\n",
       "    <tr>\n",
       "      <th>32</th>\n",
       "      <td>Portugal</td>\n",
       "      <td>PT</td>\n",
       "      <td>92226.0</td>\n",
       "      <td>69</td>\n",
       "      <td>0.748162</td>\n",
       "    </tr>\n",
       "    <tr>\n",
       "      <th>27</th>\n",
       "      <td>Macedonia</td>\n",
       "      <td>MK</td>\n",
       "      <td>25333.0</td>\n",
       "      <td>26</td>\n",
       "      <td>1.026329</td>\n",
       "    </tr>\n",
       "    <tr>\n",
       "      <th>20</th>\n",
       "      <td>Ireland</td>\n",
       "      <td>IE</td>\n",
       "      <td>69797.0</td>\n",
       "      <td>35</td>\n",
       "      <td>0.501454</td>\n",
       "    </tr>\n",
       "    <tr>\n",
       "      <th>9</th>\n",
       "      <td>Germany</td>\n",
       "      <td>DE</td>\n",
       "      <td>357376.0</td>\n",
       "      <td>731</td>\n",
       "      <td>2.045465</td>\n",
       "    </tr>\n",
       "    <tr>\n",
       "      <th>37</th>\n",
       "      <td>Slovakia</td>\n",
       "      <td>SK</td>\n",
       "      <td>49035.0</td>\n",
       "      <td>38</td>\n",
       "      <td>0.774957</td>\n",
       "    </tr>\n",
       "  </tbody>\n",
       "</table>\n",
       "</div>"
      ],
      "text/plain": [
       "         name Countrycode      Area  AirQualityStationEoICode   density\n",
       "32   Portugal          PT   92226.0                        69  0.748162\n",
       "27  Macedonia          MK   25333.0                        26  1.026329\n",
       "20    Ireland          IE   69797.0                        35  0.501454\n",
       "9     Germany          DE  357376.0                       731  2.045465\n",
       "37   Slovakia          SK   49035.0                        38  0.774957"
      ]
     },
     "execution_count": 12,
     "metadata": {},
     "output_type": "execute_result"
    }
   ],
   "source": [
    "# calculate the densities (stations per 1000 km2)\n",
    "stations_per_country = metadata.groupby('Countrycode').AirQualityStationEoICode.nunique()\n",
    "stations_per_area = area.join(stations_per_country, on='Countrycode')\n",
    "stations_per_area['density'] = stations_per_area['AirQualityStationEoICode'] * 1000 / stations_per_area['Area']\n",
    "stations_per_area.sample(5)"
   ]
  },
  {
   "cell_type": "code",
   "execution_count": 7,
   "metadata": {},
   "outputs": [],
   "source": [
    "import geopandas as gpd\n",
    "from shapely.geometry import Point, Polygon\n",
    "import descartes\n",
    "import math"
   ]
  },
  {
   "cell_type": "code",
   "execution_count": 9,
   "metadata": {},
   "outputs": [],
   "source": [
    "import geoplot\n",
    "world = gpd.read_file(\n",
    "    gpd.datasets.get_path('naturalearth_lowres')\n",
    ")"
   ]
  },
  {
   "cell_type": "markdown",
   "metadata": {},
   "source": [
    "Query the european countries:"
   ]
  },
  {
   "cell_type": "code",
   "execution_count": 18,
   "metadata": {},
   "outputs": [
    {
     "data": {
      "text/html": [
       "<div>\n",
       "<style scoped>\n",
       "    .dataframe tbody tr th:only-of-type {\n",
       "        vertical-align: middle;\n",
       "    }\n",
       "\n",
       "    .dataframe tbody tr th {\n",
       "        vertical-align: top;\n",
       "    }\n",
       "\n",
       "    .dataframe thead th {\n",
       "        text-align: right;\n",
       "    }\n",
       "</style>\n",
       "<table border=\"1\" class=\"dataframe\">\n",
       "  <thead>\n",
       "    <tr style=\"text-align: right;\">\n",
       "      <th></th>\n",
       "      <th>pop_est</th>\n",
       "      <th>continent</th>\n",
       "      <th>name</th>\n",
       "      <th>iso_a3</th>\n",
       "      <th>gdp_md_est</th>\n",
       "      <th>geometry</th>\n",
       "    </tr>\n",
       "  </thead>\n",
       "  <tbody>\n",
       "    <tr>\n",
       "      <th>21</th>\n",
       "      <td>5320045</td>\n",
       "      <td>Europe</td>\n",
       "      <td>Norway</td>\n",
       "      <td>-99</td>\n",
       "      <td>364700.0</td>\n",
       "      <td>MULTIPOLYGON (((15.14282 79.67431, 15.52255 80...</td>\n",
       "    </tr>\n",
       "    <tr>\n",
       "      <th>170</th>\n",
       "      <td>3856181</td>\n",
       "      <td>Europe</td>\n",
       "      <td>Bosnia and Herz.</td>\n",
       "      <td>BIH</td>\n",
       "      <td>42530.0</td>\n",
       "      <td>POLYGON ((18.56000 42.65000, 17.67492 43.02856...</td>\n",
       "    </tr>\n",
       "    <tr>\n",
       "      <th>150</th>\n",
       "      <td>1972126</td>\n",
       "      <td>Europe</td>\n",
       "      <td>Slovenia</td>\n",
       "      <td>SVN</td>\n",
       "      <td>68350.0</td>\n",
       "      <td>POLYGON ((13.80648 46.50931, 14.63247 46.43182...</td>\n",
       "    </tr>\n",
       "    <tr>\n",
       "      <th>131</th>\n",
       "      <td>10839514</td>\n",
       "      <td>Europe</td>\n",
       "      <td>Portugal</td>\n",
       "      <td>PRT</td>\n",
       "      <td>297100.0</td>\n",
       "      <td>POLYGON ((-9.03482 41.88057, -8.67195 42.13469...</td>\n",
       "    </tr>\n",
       "    <tr>\n",
       "      <th>173</th>\n",
       "      <td>642550</td>\n",
       "      <td>Europe</td>\n",
       "      <td>Montenegro</td>\n",
       "      <td>MNE</td>\n",
       "      <td>10610.0</td>\n",
       "      <td>POLYGON ((20.07070 42.58863, 19.80161 42.50009...</td>\n",
       "    </tr>\n",
       "  </tbody>\n",
       "</table>\n",
       "</div>"
      ],
      "text/plain": [
       "      pop_est continent              name iso_a3  gdp_md_est  \\\n",
       "21    5320045    Europe            Norway    -99    364700.0   \n",
       "170   3856181    Europe  Bosnia and Herz.    BIH     42530.0   \n",
       "150   1972126    Europe          Slovenia    SVN     68350.0   \n",
       "131  10839514    Europe          Portugal    PRT    297100.0   \n",
       "173    642550    Europe        Montenegro    MNE     10610.0   \n",
       "\n",
       "                                              geometry  \n",
       "21   MULTIPOLYGON (((15.14282 79.67431, 15.52255 80...  \n",
       "170  POLYGON ((18.56000 42.65000, 17.67492 43.02856...  \n",
       "150  POLYGON ((13.80648 46.50931, 14.63247 46.43182...  \n",
       "131  POLYGON ((-9.03482 41.88057, -8.67195 42.13469...  \n",
       "173  POLYGON ((20.07070 42.58863, 19.80161 42.50009...  "
      ]
     },
     "execution_count": 18,
     "metadata": {},
     "output_type": "execute_result"
    }
   ],
   "source": [
    "europe = world.query('continent == \"Europe\" or name == \"Turkey\" or name==\"Cyprus\"')\n",
    "europe.sample(5)"
   ]
  },
  {
   "cell_type": "markdown",
   "metadata": {},
   "source": [
    "Now perform an inner join with `stations_per_area` and convert to a GeoDF:"
   ]
  },
  {
   "cell_type": "code",
   "execution_count": 19,
   "metadata": {},
   "outputs": [
    {
     "data": {
      "text/html": [
       "<div>\n",
       "<style scoped>\n",
       "    .dataframe tbody tr th:only-of-type {\n",
       "        vertical-align: middle;\n",
       "    }\n",
       "\n",
       "    .dataframe tbody tr th {\n",
       "        vertical-align: top;\n",
       "    }\n",
       "\n",
       "    .dataframe thead th {\n",
       "        text-align: right;\n",
       "    }\n",
       "</style>\n",
       "<table border=\"1\" class=\"dataframe\">\n",
       "  <thead>\n",
       "    <tr style=\"text-align: right;\">\n",
       "      <th></th>\n",
       "      <th>pop_est</th>\n",
       "      <th>continent</th>\n",
       "      <th>name</th>\n",
       "      <th>iso_a3</th>\n",
       "      <th>gdp_md_est</th>\n",
       "      <th>geometry</th>\n",
       "      <th>Countrycode</th>\n",
       "      <th>Area</th>\n",
       "      <th>AirQualityStationEoICode</th>\n",
       "      <th>density</th>\n",
       "    </tr>\n",
       "  </thead>\n",
       "  <tbody>\n",
       "    <tr>\n",
       "      <th>6</th>\n",
       "      <td>21529967</td>\n",
       "      <td>Europe</td>\n",
       "      <td>Romania</td>\n",
       "      <td>ROU</td>\n",
       "      <td>441000.0</td>\n",
       "      <td>POLYGON ((28.23355 45.48828, 28.67978 45.30403...</td>\n",
       "      <td>RO</td>\n",
       "      <td>238397.0</td>\n",
       "      <td>146</td>\n",
       "      <td>0.612424</td>\n",
       "    </tr>\n",
       "    <tr>\n",
       "      <th>25</th>\n",
       "      <td>64769452</td>\n",
       "      <td>Europe</td>\n",
       "      <td>United Kingdom</td>\n",
       "      <td>GBR</td>\n",
       "      <td>2788000.0</td>\n",
       "      <td>MULTIPOLYGON (((-6.19788 53.86757, -6.95373 54...</td>\n",
       "      <td>GB</td>\n",
       "      <td>248536.0</td>\n",
       "      <td>233</td>\n",
       "      <td>0.937490</td>\n",
       "    </tr>\n",
       "    <tr>\n",
       "      <th>21</th>\n",
       "      <td>48958159</td>\n",
       "      <td>Europe</td>\n",
       "      <td>Spain</td>\n",
       "      <td>ESP</td>\n",
       "      <td>1690000.0</td>\n",
       "      <td>POLYGON ((-7.45373 37.09779, -7.53711 37.42890...</td>\n",
       "      <td>ES</td>\n",
       "      <td>505944.0</td>\n",
       "      <td>651</td>\n",
       "      <td>1.286704</td>\n",
       "    </tr>\n",
       "    <tr>\n",
       "      <th>26</th>\n",
       "      <td>339747</td>\n",
       "      <td>Europe</td>\n",
       "      <td>Iceland</td>\n",
       "      <td>ISL</td>\n",
       "      <td>16150.0</td>\n",
       "      <td>POLYGON ((-14.50870 66.45589, -14.73964 65.808...</td>\n",
       "      <td>IS</td>\n",
       "      <td>102775.0</td>\n",
       "      <td>37</td>\n",
       "      <td>0.360010</td>\n",
       "    </tr>\n",
       "    <tr>\n",
       "      <th>4</th>\n",
       "      <td>8754413</td>\n",
       "      <td>Europe</td>\n",
       "      <td>Austria</td>\n",
       "      <td>AUT</td>\n",
       "      <td>416600.0</td>\n",
       "      <td>POLYGON ((16.97967 48.12350, 16.90375 47.71487...</td>\n",
       "      <td>AT</td>\n",
       "      <td>83879.0</td>\n",
       "      <td>199</td>\n",
       "      <td>2.372465</td>\n",
       "    </tr>\n",
       "  </tbody>\n",
       "</table>\n",
       "</div>"
      ],
      "text/plain": [
       "     pop_est continent            name iso_a3  gdp_md_est  \\\n",
       "6   21529967    Europe         Romania    ROU    441000.0   \n",
       "25  64769452    Europe  United Kingdom    GBR   2788000.0   \n",
       "21  48958159    Europe           Spain    ESP   1690000.0   \n",
       "26    339747    Europe         Iceland    ISL     16150.0   \n",
       "4    8754413    Europe         Austria    AUT    416600.0   \n",
       "\n",
       "                                             geometry Countrycode      Area  \\\n",
       "6   POLYGON ((28.23355 45.48828, 28.67978 45.30403...          RO  238397.0   \n",
       "25  MULTIPOLYGON (((-6.19788 53.86757, -6.95373 54...          GB  248536.0   \n",
       "21  POLYGON ((-7.45373 37.09779, -7.53711 37.42890...          ES  505944.0   \n",
       "26  POLYGON ((-14.50870 66.45589, -14.73964 65.808...          IS  102775.0   \n",
       "4   POLYGON ((16.97967 48.12350, 16.90375 47.71487...          AT   83879.0   \n",
       "\n",
       "    AirQualityStationEoICode   density  \n",
       "6                        146  0.612424  \n",
       "25                       233  0.937490  \n",
       "21                       651  1.286704  \n",
       "26                        37  0.360010  \n",
       "4                        199  2.372465  "
      ]
     },
     "execution_count": 19,
     "metadata": {},
     "output_type": "execute_result"
    }
   ],
   "source": [
    "europe_merged = europe.merge(stations_per_area, on='name', how='inner')\n",
    "europe_merged.sample(5)"
   ]
  },
  {
   "cell_type": "code",
   "execution_count": 20,
   "metadata": {},
   "outputs": [],
   "source": [
    "europe_geo = gpd.GeoDataFrame(europe_merged, geometry='geometry')"
   ]
  },
  {
   "cell_type": "code",
   "execution_count": 25,
   "metadata": {},
   "outputs": [],
   "source": [
    "import matplotlib.colors as colors"
   ]
  },
  {
   "cell_type": "code",
   "execution_count": 39,
   "metadata": {},
   "outputs": [
    {
     "data": {
      "text/plain": [
       "(25, 75)"
      ]
     },
     "execution_count": 39,
     "metadata": {},
     "output_type": "execute_result"
    },
    {
     "data": {
      "image/png": "[encoded data removed]",
      "text/plain": [
       "<Figure size 1080x1080 with 1 Axes>"
      ]
     },
     "metadata": {
      "needs_background": "light"
     },
     "output_type": "display_data"
    }
   ],
   "source": [
    "europe_plot = geoplot.choropleth(\n",
    "    europe_geo, hue=europe_geo['density'],\n",
    "    norm=colors.LogNorm(europe_geo['density'].min(), vmax=europe_geo['density'].max()),\n",
    "    cmap='Greens', figsize=(15, 15)\n",
    ")\n",
    "europe_plot.set_xlim(-10, 50)\n",
    "europe_plot.set_ylim(25, 75)"
   ]
  },
  {
   "cell_type": "markdown",
   "metadata": {},
   "source": [
    "For future, we plan to make these maps interactive and more precise."
   ]
  },
  {
   "cell_type": "code",
   "execution_count": null,
   "metadata": {},
   "outputs": [],
   "source": []
  }
 ],
 "metadata": {
  "kernelspec": {
   "display_name": "Python 3",
   "language": "python",
   "name": "python3"
  },
  "language_info": {
   "codemirror_mode": {
    "name": "ipython",
    "version": 3
   },
   "file_extension": ".py",
   "mimetype": "text/x-python",
   "name": "python",
   "nbconvert_exporter": "python",
   "pygments_lexer": "ipython3",
   "version": "3.7.3"
  }
 },
 "nbformat": 4,
 "nbformat_minor": 2
}
