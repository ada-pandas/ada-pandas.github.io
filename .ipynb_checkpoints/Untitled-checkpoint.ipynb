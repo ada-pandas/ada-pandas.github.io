{
 "cells": [
  {
   "cell_type": "code",
   "execution_count": 1,
   "metadata": {},
   "outputs": [],
   "source": [
    "import pandas as pd\n",
    "import numpy as np\n",
    "import matplotlib.pyplot as plt\n",
    "%matplotlib inline\n",
    "\n",
    "from pyspark.sql import *\n",
    "from pyspark.sql.functions import *\n",
    "from pyspark import SparkContext"
   ]
  },
  {
   "cell_type": "markdown",
   "metadata": {},
   "source": [
    "As soon as we will do most of the work on the cluster, here we will show how we deal with data on a small subsample (`data_min`)"
   ]
  },
  {
   "cell_type": "code",
   "execution_count": 2,
   "metadata": {},
   "outputs": [],
   "source": [
    "# create the session\n",
    "spark = SparkSession.builder.getOrCreate()\n",
    "\n",
    "# create the context\n",
    "sc = spark.sparkContext"
   ]
  },
  {
   "cell_type": "code",
   "execution_count": 3,
   "metadata": {},
   "outputs": [],
   "source": [
    "from pyspark.sql.types import *"
   ]
  },
  {
   "cell_type": "markdown",
   "metadata": {},
   "source": [
    "Load the data according to a schema and delete the columns we do not need:"
   ]
  },
  {
   "cell_type": "code",
   "execution_count": 4,
   "metadata": {},
   "outputs": [],
   "source": [
    "schema = StructType([StructField('Country', StringType(), True),\n",
    "                     StructField('Namespace', StringType(), True),\n",
    "                     StructField('AirQualityNetwork', StringType(), True),\n",
    "                     StructField('AirQualityStation', StringType(), True),\n",
    "                     StructField('EoICode', StringType(), True),\n",
    "                     StructField('SamplingPoint', StringType(), True),\n",
    "                     StructField('SamplingProcess', StringType(), True),\n",
    "                     StructField('Sample', StringType(), True),\n",
    "                     StructField('Pollutant', StringType(), True),\n",
    "                     StructField('AirPollutantCode', StringType(), True),\n",
    "                     StructField('AveragingTime', StringType(), True),\n",
    "                     StructField('Concentration', FloatType(), True),\n",
    "                     StructField('Unit', StringType(), True),\n",
    "                     StructField('DatetimeBegin', TimestampType(), True),\n",
    "                     StructField('DatetimeEnd', TimestampType(), True),\n",
    "                     StructField('Validity', IntegerType(), True),\n",
    "                     StructField('Verification', IntegerType(), True)])"
   ]
  },
  {
   "cell_type": "code",
   "execution_count": 5,
   "metadata": {},
   "outputs": [],
   "source": [
    "df = spark.read.format(\"com.databricks.spark.csv\").option(\"inferSchema\", \"true\") \\\n",
    ".option(\"timestampFormat\", \"yyyy-mm-dd hh:mm:ss XXX\") \\\n",
    ".csv('./data_min/*/*', schema=schema, header=True) \\\n",
    ".drop(\"Namespace\", \"AirQualityStation\", \"AirQualityNetwork\", \"SamplingPoint\", \"SamplingProcess\", \"Sample\", \"AirPollutantCode\")"
   ]
  },
  {
   "cell_type": "markdown",
   "metadata": {},
   "source": [
    "Now the schema is the following:"
   ]
  },
  {
   "cell_type": "markdown",
   "metadata": {},
   "source": [
    "| Field         | Type      | Description                                                    |\n",
    "|---------------|-----------|----------------------------------------------------------------|\n",
    "| Country       | String    | 2-letter country code                                          |\n",
    "| EoICode       | String    | Unique station identifier                                      |\n",
    "| Pollutant     | String    | Short name of pollutant                                        |\n",
    "| AveragingTime | String    | Time for which the measurement has been taken (hour, day, etc) |\n",
    "| Concentration | Float     | The measured value/concentration                               |\n",
    "| Unit          | String    | Defines the unit of the concentration                          |\n",
    "| DatetimeBegin | Timestamp | Start time (yyyy-mm-dd hh:mm:ss Z) of the measurement          |\n",
    "| DatetimeEnd   | Timestamp | End time (yyyy-mm-dd hh:mm:ss Z) of the measurement            |\n",
    "| Validity      | Integer   | The validity flag for the measurement                          |\n",
    "| Verification  | Integer   | The verification flag for the measurement.                     |"
   ]
  },
  {
   "cell_type": "code",
   "execution_count": 8,
   "metadata": {
    "scrolled": true
   },
   "outputs": [
    {
     "name": "stdout",
     "output_type": "stream",
     "text": [
      "+-------+-------+---------+-------------+-------------+-----+-------------------+-------------------+--------+------------+\n",
      "|Country|EoICode|Pollutant|AveragingTime|Concentration| Unit|      DatetimeBegin|        DatetimeEnd|Validity|Verification|\n",
      "+-------+-------+---------+-------------+-------------+-----+-------------------+-------------------+--------+------------+\n",
      "|     GB|GB0906A|       CO|         hour|     0.038925|mg/m3|2018-01-01 00:00:00|2018-01-01 01:00:00|       2|           1|\n",
      "|     GB|GB0906A|       CO|         hour|     0.048175|mg/m3|2018-01-01 01:00:00|2018-01-01 02:00:00|       2|           1|\n",
      "|     GB|GB0906A|       CO|         hour|     0.048175|mg/m3|2018-01-01 02:00:00|2018-01-01 03:00:00|       2|           1|\n",
      "|     GB|GB0906A|       CO|         hour|     0.038911|mg/m3|2018-01-01 03:00:00|2018-01-01 04:00:00|       2|           1|\n",
      "|     GB|GB0906A|       CO|         hour|     0.052807|mg/m3|2018-01-01 04:00:00|2018-01-01 05:00:00|       2|           1|\n",
      "|     GB|GB0906A|       CO|         hour|      0.16398|mg/m3|2018-01-01 05:00:00|2018-01-01 06:00:00|       2|           1|\n",
      "|     GB|GB0906A|       CO|         hour|     0.200112|mg/m3|2018-01-01 06:00:00|2018-01-01 07:00:00|       2|           1|\n",
      "|     GB|GB0906A|       CO|         hour|     0.489162|mg/m3|2018-01-01 07:00:00|2018-01-01 08:00:00|       1|           1|\n",
      "|     GB|GB0906A|       CO|         hour|      0.28905|mg/m3|2018-01-01 08:00:00|2018-01-01 09:00:00|       2|           1|\n",
      "|     GB|GB0906A|       CO|         hour|     0.678156|mg/m3|2018-01-01 09:00:00|2018-01-01 10:00:00|       1|           1|\n",
      "+-------+-------+---------+-------------+-------------+-----+-------------------+-------------------+--------+------------+\n",
      "only showing top 10 rows\n",
      "\n"
     ]
    }
   ],
   "source": [
    "df.show(10)"
   ]
  },
  {
   "cell_type": "markdown",
   "metadata": {},
   "source": [
    "*Validity* can take 5 different values:  \n",
    "**-99** - Not valid due to station maintenance or calibration  \n",
    "**-1** - Not valid  \n",
    "**1** - Valid  \n",
    "**2** - Valid, but below detection limit measurement value given  \n",
    "**3** - Valid, but below detection limit and number replaced by 0.5 * detection_limit"
   ]
  },
  {
   "cell_type": "markdown",
   "metadata": {},
   "source": [
    "*Verificaton* can take 3 different values:  \n",
    "**1** - Verified  \n",
    "**2** - Preliminary verified  \n",
    "**3** - Not verified"
   ]
  },
  {
   "cell_type": "markdown",
   "metadata": {},
   "source": [
    "Total number of lines:"
   ]
  },
  {
   "cell_type": "code",
   "execution_count": 9,
   "metadata": {},
   "outputs": [
    {
     "data": {
      "text/plain": [
       "323784"
      ]
     },
     "execution_count": 9,
     "metadata": {},
     "output_type": "execute_result"
    }
   ],
   "source": [
    "df.count()"
   ]
  },
  {
   "cell_type": "markdown",
   "metadata": {},
   "source": [
    "We found one type of missing and incorrect values which is not covered by validity-verification pair: measurement value below zero."
   ]
  },
  {
   "cell_type": "code",
   "execution_count": 14,
   "metadata": {},
   "outputs": [
    {
     "name": "stdout",
     "output_type": "stream",
     "text": [
      "+-------+-------+---------+-------------+-------------+-----+-------------------+-------------------+--------+------------+\n",
      "|Country|EoICode|Pollutant|AveragingTime|Concentration| Unit|      DatetimeBegin|        DatetimeEnd|Validity|Verification|\n",
      "+-------+-------+---------+-------------+-------------+-----+-------------------+-------------------+--------+------------+\n",
      "|     IE|IE0028A|      SO2|         hour|        -0.53|µg/m3|2018-01-24 08:00:00|2018-01-24 09:00:00|       1|           1|\n",
      "|     IE|IE001CM|      SO2|         hour|       -0.266|µg/m3|2018-01-20 15:00:00|2018-01-20 16:00:00|       1|           1|\n",
      "|     IE|IE001CM|      SO2|         hour|       -0.532|µg/m3|2018-01-20 16:00:00|2018-01-20 17:00:00|       1|           1|\n",
      "|     IE|IE001CM|      SO2|         hour|       -0.266|µg/m3|2018-01-21 04:00:00|2018-01-21 05:00:00|       1|           1|\n",
      "|     IE|IE001CM|      SO2|         hour|       -0.266|µg/m3|2018-01-16 15:00:00|2018-01-16 16:00:00|       1|           1|\n",
      "+-------+-------+---------+-------------+-------------+-----+-------------------+-------------------+--------+------------+\n",
      "only showing top 5 rows\n",
      "\n"
     ]
    }
   ],
   "source": [
    "df.select(\"*\").where(df.Concentration < 0).show(5)"
   ]
  },
  {
   "cell_type": "markdown",
   "metadata": {},
   "source": [
    "Other inconsistencies, including `null` values are covered:"
   ]
  },
  {
   "cell_type": "code",
   "execution_count": 22,
   "metadata": {},
   "outputs": [
    {
     "name": "stdout",
     "output_type": "stream",
     "text": [
      "+-------+-------+---------+-------------+-------------+-----+-------------------+-------------------+--------+------------+\n",
      "|Country|EoICode|Pollutant|AveragingTime|Concentration| Unit|      DatetimeBegin|        DatetimeEnd|Validity|Verification|\n",
      "+-------+-------+---------+-------------+-------------+-----+-------------------+-------------------+--------+------------+\n",
      "|     GB|GB0906A|       CO|         hour|         null|mg/m3|2018-01-19 15:00:00|2018-01-19 16:00:00|      -1|           1|\n",
      "|     GB|GB0906A|       CO|         hour|         null|mg/m3|2018-01-19 16:00:00|2018-01-19 17:00:00|      -1|           1|\n",
      "|     GB|GB0906A|       CO|         hour|         null|mg/m3|2018-01-06 15:00:00|2018-01-06 16:00:00|      -1|           1|\n",
      "|     GB|GB0906A|       CO|         hour|         null|mg/m3|2018-01-06 16:00:00|2018-01-06 17:00:00|      -1|           1|\n",
      "|     GB|GB0906A|       CO|         hour|         null|mg/m3|2018-01-07 11:00:00|2018-01-07 00:00:00|      -1|           1|\n",
      "+-------+-------+---------+-------------+-------------+-----+-------------------+-------------------+--------+------------+\n",
      "only showing top 5 rows\n",
      "\n"
     ]
    }
   ],
   "source": [
    "df.select(\"*\").where(df.Concentration.isNull()).show(5)"
   ]
  },
  {
   "cell_type": "markdown",
   "metadata": {},
   "source": [
    "So, we have to filter those values in each query."
   ]
  },
  {
   "cell_type": "code",
   "execution_count": null,
   "metadata": {},
   "outputs": [],
   "source": []
  }
 ],
 "metadata": {
  "kernelspec": {
   "display_name": "Python 3",
   "language": "python",
   "name": "python3"
  },
  "language_info": {
   "codemirror_mode": {
    "name": "ipython",
    "version": 3
   },
   "file_extension": ".py",
   "mimetype": "text/x-python",
   "name": "python",
   "nbconvert_exporter": "python",
   "pygments_lexer": "ipython3",
   "version": "3.7.3"
  }
 },
 "nbformat": 4,
 "nbformat_minor": 2
}
