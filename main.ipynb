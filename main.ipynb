{
  "cells": [
    {
      "cell_type": "code",
      "execution_count": 1,
      "metadata": {
        "collapsed": true,
        "pycharm": {
          "is_executing": false
        }
      },
      "outputs": [],
      "source": "%matplotlib inline\nimport pandas as pd\nimport numpy as np\nimport re\nfrom matplotlib.ticker import MaxNLocator\nimport matplotlib.pyplot as plt\nfrom requests import get\nfrom bs4 import BeautifulSoup\nfrom os import listdir\nfrom os.path import isfile, join, isdir\n"
    },
    {
      "cell_type": "markdown",
      "source": "Load data\n",
      "metadata": {
        "pycharm": {
          "metadata": false,
          "name": "#%% md\n"
        }
      }
    },
    {
      "cell_type": "code",
      "execution_count": 22,
      "outputs": [
        {
          "name": "stdout",
          "text": [
            "Parsing CH\n"
          ],
          "output_type": "stream"
        },
        {
          "name": "stderr",
          "text": [
            "/Users/so/anaconda3/lib/python3.7/site-packages/ipykernel_launcher.py:23: FutureWarning: Sorting because non-concatenation axis is not aligned. A future version\nof pandas will change to not sort by default.\n\nTo accept the future behavior, pass \u0027sort\u003dFalse\u0027.\n\nTo retain the current behavior and silence the warning, pass \u0027sort\u003dTrue\u0027.\n\n"
          ],
          "output_type": "stream"
        }
      ],
      "source": "import chardet\nRELATIVE_DATA_PATH \u003d \u0027./data\u0027\ncountries \u003d [f for f in listdir(RELATIVE_DATA_PATH) if isdir(join(RELATIVE_DATA_PATH, f))]\n\nframes \u003d []\nfor country in countries:\n    print(f\"Parsing {country}\")\n    pollutantsPath \u003d join(RELATIVE_DATA_PATH, country)\n    pollutants \u003d [f for f in listdir(pollutantsPath) if isdir(join(pollutantsPath, f)) ]\n    \n    for pollutant in pollutants:\n        pollutantPath \u003d join(pollutantsPath, pollutant)\n        dataCSVs \u003d [f for f in listdir(pollutantPath)]\n        \n        for dataCSV in dataCSVs:\n            dataCSVPath \u003d join(pollutantPath, dataCSV)\n            \n            with open(dataCSVPath, \u0027rb\u0027) as f:\n                info \u003d chardet.detect(f.read())\n                currentCSV \u003d pd.read_csv(dataCSVPath, sep\u003d\u0027,\u0027, encoding\u003dinfo.get(\u0027encoding\u0027))\n                frames.append(currentCSV)\n            \ndata \u003d pd.concat(frames)\nmetadata \u003d pd.read_csv(join(RELATIVE_DATA_PATH, \u0027metadata.csv\u0027))\n",
      "metadata": {
        "pycharm": {
          "metadata": false,
          "name": "#%%\n",
          "is_executing": false
        }
      }
    },
    {
      "cell_type": "markdown",
      "source": "Data\n",
      "metadata": {
        "pycharm": {
          "metadata": false
        }
      }
    },
    {
      "cell_type": "code",
      "execution_count": 23,
      "outputs": [
        {
          "data": {
            "text/plain": "      AirPollutant                                   AirPollutantCode  \\\n5040            CO  http://dd.eionet.europa.eu/vocabulary/aq/pollu...   \n15238          NO2  http://dd.eionet.europa.eu/vocabulary/aq/pollu...   \n14657          NO2  http://dd.eionet.europa.eu/vocabulary/aq/pollu...   \n5020           NO2  http://dd.eionet.europa.eu/vocabulary/aq/pollu...   \n11138          SO2  http://dd.eionet.europa.eu/vocabulary/aq/pollu...   \n\n      AirQualityNetwork AirQualityStation AirQualityStationEoICode  \\\n5040         NET-CH003A       STA-CH0002R                  CH0002R   \n15238        NET-CH003A       STA-CH0002R                  CH0002R   \n14657        NET-CH003A       STA-CH0002R                  CH0002R   \n5020         NET-CH003A       STA-CH0003R                  CH0003R   \n11138        NET-CH003A       STA-CH0005A                  CH0005A   \n\n      AveragingTime  Concentration Countrycode               DatetimeBegin  \\\n5040           hour          0.226          CH  2013-03-12 16:00:00 +01:00   \n15238          hour          4.600          CH  2013-07-12 17:00:00 +01:00   \n14657          hour         25.700          CH  2013-11-28 15:00:00 +01:00   \n5020           hour          4.400          CH  2013-03-09 05:00:00 +01:00   \n11138          hour          0.700          CH  2013-06-05 11:00:00 +01:00   \n\n                      DatetimeEnd   Namespace                       Sample  \\\n5040   2013-03-12 17:00:00 +01:00  CH.BAFU.AQ  SPO_F-CH0002R_00010_100_100   \n15238  2013-07-12 18:00:00 +01:00  CH.BAFU.AQ  SPO_F-CH0002R_00008_100_102   \n14657  2013-11-28 16:00:00 +01:00  CH.BAFU.AQ  SPO_F-CH0002R_00008_100_102   \n5020   2013-03-09 06:00:00 +01:00  CH.BAFU.AQ  SPO_F-CH0003R_00008_100_102   \n11138  2013-06-05 12:00:00 +01:00  CH.BAFU.AQ  SPO_F-CH0005A_00001_502_502   \n\n               SamplingPoint               SamplingProcess UnitOfMeasurement  \\\n5040   SPO-CH0002R_00010_100   SPP-CH_A_NDIR_horibaAPMA360             mg/m3   \n15238  SPO-CH0002R_00008_100           SPP-CH_A_5150551505             µg/m3   \n14657  SPO-CH0002R_00008_100           SPP-CH_A_5150551505             µg/m3   \n5020   SPO-CH0003R_00008_100  SPP-CH_A_chemi_horibaAPNA370             µg/m3   \n11138  SPO-CH0005A_00001_502           SPP-CH_A_5150551505             µg/m3   \n\n      Unnamed: 0  Validity  Verification  \n5040         NaN       1.0           1.0  \n15238        NaN       1.0           1.0  \n14657        NaN       1.0           1.0  \n5020         NaN       1.0           1.0  \n11138        NaN       1.0           1.0  ",
            "text/html": "\u003cdiv\u003e\n\u003cstyle scoped\u003e\n    .dataframe tbody tr th:only-of-type {\n        vertical-align: middle;\n    }\n\n    .dataframe tbody tr th {\n        vertical-align: top;\n    }\n\n    .dataframe thead th {\n        text-align: right;\n    }\n\u003c/style\u003e\n\u003ctable border\u003d\"1\" class\u003d\"dataframe\"\u003e\n  \u003cthead\u003e\n    \u003ctr style\u003d\"text-align: right;\"\u003e\n      \u003cth\u003e\u003c/th\u003e\n      \u003cth\u003eAirPollutant\u003c/th\u003e\n      \u003cth\u003eAirPollutantCode\u003c/th\u003e\n      \u003cth\u003eAirQualityNetwork\u003c/th\u003e\n      \u003cth\u003eAirQualityStation\u003c/th\u003e\n      \u003cth\u003eAirQualityStationEoICode\u003c/th\u003e\n      \u003cth\u003eAveragingTime\u003c/th\u003e\n      \u003cth\u003eConcentration\u003c/th\u003e\n      \u003cth\u003eCountrycode\u003c/th\u003e\n      \u003cth\u003eDatetimeBegin\u003c/th\u003e\n      \u003cth\u003eDatetimeEnd\u003c/th\u003e\n      \u003cth\u003eNamespace\u003c/th\u003e\n      \u003cth\u003eSample\u003c/th\u003e\n      \u003cth\u003eSamplingPoint\u003c/th\u003e\n      \u003cth\u003eSamplingProcess\u003c/th\u003e\n      \u003cth\u003eUnitOfMeasurement\u003c/th\u003e\n      \u003cth\u003eUnnamed: 0\u003c/th\u003e\n      \u003cth\u003eValidity\u003c/th\u003e\n      \u003cth\u003eVerification\u003c/th\u003e\n    \u003c/tr\u003e\n  \u003c/thead\u003e\n  \u003ctbody\u003e\n    \u003ctr\u003e\n      \u003cth\u003e5040\u003c/th\u003e\n      \u003ctd\u003eCO\u003c/td\u003e\n      \u003ctd\u003ehttp://dd.eionet.europa.eu/vocabulary/aq/pollu...\u003c/td\u003e\n      \u003ctd\u003eNET-CH003A\u003c/td\u003e\n      \u003ctd\u003eSTA-CH0002R\u003c/td\u003e\n      \u003ctd\u003eCH0002R\u003c/td\u003e\n      \u003ctd\u003ehour\u003c/td\u003e\n      \u003ctd\u003e0.226\u003c/td\u003e\n      \u003ctd\u003eCH\u003c/td\u003e\n      \u003ctd\u003e2013-03-12 16:00:00 +01:00\u003c/td\u003e\n      \u003ctd\u003e2013-03-12 17:00:00 +01:00\u003c/td\u003e\n      \u003ctd\u003eCH.BAFU.AQ\u003c/td\u003e\n      \u003ctd\u003eSPO_F-CH0002R_00010_100_100\u003c/td\u003e\n      \u003ctd\u003eSPO-CH0002R_00010_100\u003c/td\u003e\n      \u003ctd\u003eSPP-CH_A_NDIR_horibaAPMA360\u003c/td\u003e\n      \u003ctd\u003emg/m3\u003c/td\u003e\n      \u003ctd\u003eNaN\u003c/td\u003e\n      \u003ctd\u003e1.0\u003c/td\u003e\n      \u003ctd\u003e1.0\u003c/td\u003e\n    \u003c/tr\u003e\n    \u003ctr\u003e\n      \u003cth\u003e15238\u003c/th\u003e\n      \u003ctd\u003eNO2\u003c/td\u003e\n      \u003ctd\u003ehttp://dd.eionet.europa.eu/vocabulary/aq/pollu...\u003c/td\u003e\n      \u003ctd\u003eNET-CH003A\u003c/td\u003e\n      \u003ctd\u003eSTA-CH0002R\u003c/td\u003e\n      \u003ctd\u003eCH0002R\u003c/td\u003e\n      \u003ctd\u003ehour\u003c/td\u003e\n      \u003ctd\u003e4.600\u003c/td\u003e\n      \u003ctd\u003eCH\u003c/td\u003e\n      \u003ctd\u003e2013-07-12 17:00:00 +01:00\u003c/td\u003e\n      \u003ctd\u003e2013-07-12 18:00:00 +01:00\u003c/td\u003e\n      \u003ctd\u003eCH.BAFU.AQ\u003c/td\u003e\n      \u003ctd\u003eSPO_F-CH0002R_00008_100_102\u003c/td\u003e\n      \u003ctd\u003eSPO-CH0002R_00008_100\u003c/td\u003e\n      \u003ctd\u003eSPP-CH_A_5150551505\u003c/td\u003e\n      \u003ctd\u003eµg/m3\u003c/td\u003e\n      \u003ctd\u003eNaN\u003c/td\u003e\n      \u003ctd\u003e1.0\u003c/td\u003e\n      \u003ctd\u003e1.0\u003c/td\u003e\n    \u003c/tr\u003e\n    \u003ctr\u003e\n      \u003cth\u003e14657\u003c/th\u003e\n      \u003ctd\u003eNO2\u003c/td\u003e\n      \u003ctd\u003ehttp://dd.eionet.europa.eu/vocabulary/aq/pollu...\u003c/td\u003e\n      \u003ctd\u003eNET-CH003A\u003c/td\u003e\n      \u003ctd\u003eSTA-CH0002R\u003c/td\u003e\n      \u003ctd\u003eCH0002R\u003c/td\u003e\n      \u003ctd\u003ehour\u003c/td\u003e\n      \u003ctd\u003e25.700\u003c/td\u003e\n      \u003ctd\u003eCH\u003c/td\u003e\n      \u003ctd\u003e2013-11-28 15:00:00 +01:00\u003c/td\u003e\n      \u003ctd\u003e2013-11-28 16:00:00 +01:00\u003c/td\u003e\n      \u003ctd\u003eCH.BAFU.AQ\u003c/td\u003e\n      \u003ctd\u003eSPO_F-CH0002R_00008_100_102\u003c/td\u003e\n      \u003ctd\u003eSPO-CH0002R_00008_100\u003c/td\u003e\n      \u003ctd\u003eSPP-CH_A_5150551505\u003c/td\u003e\n      \u003ctd\u003eµg/m3\u003c/td\u003e\n      \u003ctd\u003eNaN\u003c/td\u003e\n      \u003ctd\u003e1.0\u003c/td\u003e\n      \u003ctd\u003e1.0\u003c/td\u003e\n    \u003c/tr\u003e\n    \u003ctr\u003e\n      \u003cth\u003e5020\u003c/th\u003e\n      \u003ctd\u003eNO2\u003c/td\u003e\n      \u003ctd\u003ehttp://dd.eionet.europa.eu/vocabulary/aq/pollu...\u003c/td\u003e\n      \u003ctd\u003eNET-CH003A\u003c/td\u003e\n      \u003ctd\u003eSTA-CH0003R\u003c/td\u003e\n      \u003ctd\u003eCH0003R\u003c/td\u003e\n      \u003ctd\u003ehour\u003c/td\u003e\n      \u003ctd\u003e4.400\u003c/td\u003e\n      \u003ctd\u003eCH\u003c/td\u003e\n      \u003ctd\u003e2013-03-09 05:00:00 +01:00\u003c/td\u003e\n      \u003ctd\u003e2013-03-09 06:00:00 +01:00\u003c/td\u003e\n      \u003ctd\u003eCH.BAFU.AQ\u003c/td\u003e\n      \u003ctd\u003eSPO_F-CH0003R_00008_100_102\u003c/td\u003e\n      \u003ctd\u003eSPO-CH0003R_00008_100\u003c/td\u003e\n      \u003ctd\u003eSPP-CH_A_chemi_horibaAPNA370\u003c/td\u003e\n      \u003ctd\u003eµg/m3\u003c/td\u003e\n      \u003ctd\u003eNaN\u003c/td\u003e\n      \u003ctd\u003e1.0\u003c/td\u003e\n      \u003ctd\u003e1.0\u003c/td\u003e\n    \u003c/tr\u003e\n    \u003ctr\u003e\n      \u003cth\u003e11138\u003c/th\u003e\n      \u003ctd\u003eSO2\u003c/td\u003e\n      \u003ctd\u003ehttp://dd.eionet.europa.eu/vocabulary/aq/pollu...\u003c/td\u003e\n      \u003ctd\u003eNET-CH003A\u003c/td\u003e\n      \u003ctd\u003eSTA-CH0005A\u003c/td\u003e\n      \u003ctd\u003eCH0005A\u003c/td\u003e\n      \u003ctd\u003ehour\u003c/td\u003e\n      \u003ctd\u003e0.700\u003c/td\u003e\n      \u003ctd\u003eCH\u003c/td\u003e\n      \u003ctd\u003e2013-06-05 11:00:00 +01:00\u003c/td\u003e\n      \u003ctd\u003e2013-06-05 12:00:00 +01:00\u003c/td\u003e\n      \u003ctd\u003eCH.BAFU.AQ\u003c/td\u003e\n      \u003ctd\u003eSPO_F-CH0005A_00001_502_502\u003c/td\u003e\n      \u003ctd\u003eSPO-CH0005A_00001_502\u003c/td\u003e\n      \u003ctd\u003eSPP-CH_A_5150551505\u003c/td\u003e\n      \u003ctd\u003eµg/m3\u003c/td\u003e\n      \u003ctd\u003eNaN\u003c/td\u003e\n      \u003ctd\u003e1.0\u003c/td\u003e\n      \u003ctd\u003e1.0\u003c/td\u003e\n    \u003c/tr\u003e\n  \u003c/tbody\u003e\n\u003c/table\u003e\n\u003c/div\u003e"
          },
          "metadata": {},
          "output_type": "execute_result",
          "execution_count": 23
        }
      ],
      "source": "data.sample(5)\n",
      "metadata": {
        "pycharm": {
          "metadata": false,
          "name": "#%%\n",
          "is_executing": false
        }
      }
    },
    {
      "cell_type": "markdown",
      "source": "Metadata\n",
      "metadata": {
        "pycharm": {
          "metadata": false,
          "name": "#%% md\n"
        }
      }
    },
    {
      "cell_type": "code",
      "execution_count": 26,
      "outputs": [
        {
          "data": {
            "text/plain": "      Countrycode                                          Namespace  \\\n26182          FR                                 FR.LCSQA-INERIS.AQ   \n21132          ES                                        ES.BDCA.AQD   \n13123          DE  http://gdi.uba.de/arcgis/rest/services/inspire...   \n15542          DE  http://gdi.uba.de/arcgis/rest/services/inspire...   \n38076          IT                                       IT.ISPRA.AQD   \n\n      AirQualityNetwork AirQualityStation AirQualityStationNatCode  \\\n26182        NET-FR074A       STA-FR06009                  FR06009   \n21132        NET_ES205A       STA_ES1759A                 38038012   \n13123         NET.DE_HE    STA.DE_DEHE094                  DEHE094   \n15542         NET.DE_SN    STA.DE_DESN083                  DESN083   \n38076        NET.IT255A       STA.IT0702A                   803513   \n\n      AirQualityStationEoICode AirQualityStationArea  \\\n26182                  FR06009                 urban   \n21132                  ES1759A                 urban   \n13123                  DEHE094                 urban   \n15542                  DESN083                 urban   \n38076                  IT0702A                 urban   \n\n                                 SamplingPoint  \\\n26182                    SPO-FR06009_00005_100   \n21132                        SP_38038012_10_46   \n13123            SPO.DE_DEHE094_NOx_dataGroup1   \n15542            SPO.DE_DESN083_NOx_dataGroup1   \n38076  SPO.IT0702A_10_NDIR_1989-04-01_00:00:00   \n\n                                         SamplingProcess  \\\n26182                                SPP-FR_A_TEOM_09000   \n21132                               SPP_38038012_10_46.1   \n13123  SPP.DE_DEHE094_NOx_automatic_chemi_Duration-30...   \n15542  SPP.DE_DESN083_NOx_automatic_chemi_Duration-1hour   \n38076            SPP.IT0702A_10_NDIR_1989-04-01_00:00:00   \n\n                                        Sample  ...  \\\n26182              SPO_F-FR06009_00005_100_100  ...   \n21132                       SAM_38038012_10_46  ...   \n13123                         SAM.DE_DEHE094_1  ...   \n15542                         SAM.DE_DESN083_1  ...   \n38076  SAM.IT0702A_10_NDIR_1989-04-01_00:00:00  ...   \n\n                                    MeasurementEquipment MeasurementType  \\\n26182                                                NaN       automatic   \n21132  http://dd.eionet.europa.eu/vocabulary/aq/measu...       automatic   \n13123                                                NaN       automatic   \n15542                                                NaN       automatic   \n38076  http://dd.eionet.europa.eu/vocabulary/aq/measu...       automatic   \n\n                                       MeasurementMethod  \\\n26182  http://dd.eionet.europa.eu/vocabulary/aq/measu...   \n21132  http://dd.eionet.europa.eu/vocabulary/aq/measu...   \n13123  http://dd.eionet.europa.eu/vocabulary/aq/measu...   \n15542  http://dd.eionet.europa.eu/vocabulary/aq/measu...   \n38076  http://dd.eionet.europa.eu/vocabulary/aq/measu...   \n\n                                        AirPollutantCode AirPollutant  \\\n26182  http://dd.eionet.europa.eu/vocabulary/aq/pollu...         PM10   \n21132  http://dd.eionet.europa.eu/vocabulary/aq/pollu...         PM10   \n13123  http://dd.eionet.europa.eu/vocabulary/aq/pollu...   NOX as NO2   \n15542  http://dd.eionet.europa.eu/vocabulary/aq/pollu...   NOX as NO2   \n38076  http://dd.eionet.europa.eu/vocabulary/aq/pollu...           CO   \n\n      AirQualityStationType Projection  Longitude   Latitude Altitude  \n26182            background  EPSG:4979   3.234167  50.175278     59.0  \n21132            industrial  EPSG:4979 -16.277692  28.451022    183.0  \n13123               traffic  EPSG:4979   8.832221  49.827775    161.0  \n15542               traffic  EPSG:4979  12.903367  50.845740    327.0  \n38076               traffic  EPSG:4979  10.624444  44.699722     50.0  \n\n[5 rows x 24 columns]",
            "text/html": "\u003cdiv\u003e\n\u003cstyle scoped\u003e\n    .dataframe tbody tr th:only-of-type {\n        vertical-align: middle;\n    }\n\n    .dataframe tbody tr th {\n        vertical-align: top;\n    }\n\n    .dataframe thead th {\n        text-align: right;\n    }\n\u003c/style\u003e\n\u003ctable border\u003d\"1\" class\u003d\"dataframe\"\u003e\n  \u003cthead\u003e\n    \u003ctr style\u003d\"text-align: right;\"\u003e\n      \u003cth\u003e\u003c/th\u003e\n      \u003cth\u003eCountrycode\u003c/th\u003e\n      \u003cth\u003eNamespace\u003c/th\u003e\n      \u003cth\u003eAirQualityNetwork\u003c/th\u003e\n      \u003cth\u003eAirQualityStation\u003c/th\u003e\n      \u003cth\u003eAirQualityStationNatCode\u003c/th\u003e\n      \u003cth\u003eAirQualityStationEoICode\u003c/th\u003e\n      \u003cth\u003eAirQualityStationArea\u003c/th\u003e\n      \u003cth\u003eSamplingPoint\u003c/th\u003e\n      \u003cth\u003eSamplingProcess\u003c/th\u003e\n      \u003cth\u003eSample\u003c/th\u003e\n      \u003cth\u003e...\u003c/th\u003e\n      \u003cth\u003eMeasurementEquipment\u003c/th\u003e\n      \u003cth\u003eMeasurementType\u003c/th\u003e\n      \u003cth\u003eMeasurementMethod\u003c/th\u003e\n      \u003cth\u003eAirPollutantCode\u003c/th\u003e\n      \u003cth\u003eAirPollutant\u003c/th\u003e\n      \u003cth\u003eAirQualityStationType\u003c/th\u003e\n      \u003cth\u003eProjection\u003c/th\u003e\n      \u003cth\u003eLongitude\u003c/th\u003e\n      \u003cth\u003eLatitude\u003c/th\u003e\n      \u003cth\u003eAltitude\u003c/th\u003e\n    \u003c/tr\u003e\n  \u003c/thead\u003e\n  \u003ctbody\u003e\n    \u003ctr\u003e\n      \u003cth\u003e26182\u003c/th\u003e\n      \u003ctd\u003eFR\u003c/td\u003e\n      \u003ctd\u003eFR.LCSQA-INERIS.AQ\u003c/td\u003e\n      \u003ctd\u003eNET-FR074A\u003c/td\u003e\n      \u003ctd\u003eSTA-FR06009\u003c/td\u003e\n      \u003ctd\u003eFR06009\u003c/td\u003e\n      \u003ctd\u003eFR06009\u003c/td\u003e\n      \u003ctd\u003eurban\u003c/td\u003e\n      \u003ctd\u003eSPO-FR06009_00005_100\u003c/td\u003e\n      \u003ctd\u003eSPP-FR_A_TEOM_09000\u003c/td\u003e\n      \u003ctd\u003eSPO_F-FR06009_00005_100_100\u003c/td\u003e\n      \u003ctd\u003e...\u003c/td\u003e\n      \u003ctd\u003eNaN\u003c/td\u003e\n      \u003ctd\u003eautomatic\u003c/td\u003e\n      \u003ctd\u003ehttp://dd.eionet.europa.eu/vocabulary/aq/measu...\u003c/td\u003e\n      \u003ctd\u003ehttp://dd.eionet.europa.eu/vocabulary/aq/pollu...\u003c/td\u003e\n      \u003ctd\u003ePM10\u003c/td\u003e\n      \u003ctd\u003ebackground\u003c/td\u003e\n      \u003ctd\u003eEPSG:4979\u003c/td\u003e\n      \u003ctd\u003e3.234167\u003c/td\u003e\n      \u003ctd\u003e50.175278\u003c/td\u003e\n      \u003ctd\u003e59.0\u003c/td\u003e\n    \u003c/tr\u003e\n    \u003ctr\u003e\n      \u003cth\u003e21132\u003c/th\u003e\n      \u003ctd\u003eES\u003c/td\u003e\n      \u003ctd\u003eES.BDCA.AQD\u003c/td\u003e\n      \u003ctd\u003eNET_ES205A\u003c/td\u003e\n      \u003ctd\u003eSTA_ES1759A\u003c/td\u003e\n      \u003ctd\u003e38038012\u003c/td\u003e\n      \u003ctd\u003eES1759A\u003c/td\u003e\n      \u003ctd\u003eurban\u003c/td\u003e\n      \u003ctd\u003eSP_38038012_10_46\u003c/td\u003e\n      \u003ctd\u003eSPP_38038012_10_46.1\u003c/td\u003e\n      \u003ctd\u003eSAM_38038012_10_46\u003c/td\u003e\n      \u003ctd\u003e...\u003c/td\u003e\n      \u003ctd\u003ehttp://dd.eionet.europa.eu/vocabulary/aq/measu...\u003c/td\u003e\n      \u003ctd\u003eautomatic\u003c/td\u003e\n      \u003ctd\u003ehttp://dd.eionet.europa.eu/vocabulary/aq/measu...\u003c/td\u003e\n      \u003ctd\u003ehttp://dd.eionet.europa.eu/vocabulary/aq/pollu...\u003c/td\u003e\n      \u003ctd\u003ePM10\u003c/td\u003e\n      \u003ctd\u003eindustrial\u003c/td\u003e\n      \u003ctd\u003eEPSG:4979\u003c/td\u003e\n      \u003ctd\u003e-16.277692\u003c/td\u003e\n      \u003ctd\u003e28.451022\u003c/td\u003e\n      \u003ctd\u003e183.0\u003c/td\u003e\n    \u003c/tr\u003e\n    \u003ctr\u003e\n      \u003cth\u003e13123\u003c/th\u003e\n      \u003ctd\u003eDE\u003c/td\u003e\n      \u003ctd\u003ehttp://gdi.uba.de/arcgis/rest/services/inspire...\u003c/td\u003e\n      \u003ctd\u003eNET.DE_HE\u003c/td\u003e\n      \u003ctd\u003eSTA.DE_DEHE094\u003c/td\u003e\n      \u003ctd\u003eDEHE094\u003c/td\u003e\n      \u003ctd\u003eDEHE094\u003c/td\u003e\n      \u003ctd\u003eurban\u003c/td\u003e\n      \u003ctd\u003eSPO.DE_DEHE094_NOx_dataGroup1\u003c/td\u003e\n      \u003ctd\u003eSPP.DE_DEHE094_NOx_automatic_chemi_Duration-30...\u003c/td\u003e\n      \u003ctd\u003eSAM.DE_DEHE094_1\u003c/td\u003e\n      \u003ctd\u003e...\u003c/td\u003e\n      \u003ctd\u003eNaN\u003c/td\u003e\n      \u003ctd\u003eautomatic\u003c/td\u003e\n      \u003ctd\u003ehttp://dd.eionet.europa.eu/vocabulary/aq/measu...\u003c/td\u003e\n      \u003ctd\u003ehttp://dd.eionet.europa.eu/vocabulary/aq/pollu...\u003c/td\u003e\n      \u003ctd\u003eNOX as NO2\u003c/td\u003e\n      \u003ctd\u003etraffic\u003c/td\u003e\n      \u003ctd\u003eEPSG:4979\u003c/td\u003e\n      \u003ctd\u003e8.832221\u003c/td\u003e\n      \u003ctd\u003e49.827775\u003c/td\u003e\n      \u003ctd\u003e161.0\u003c/td\u003e\n    \u003c/tr\u003e\n    \u003ctr\u003e\n      \u003cth\u003e15542\u003c/th\u003e\n      \u003ctd\u003eDE\u003c/td\u003e\n      \u003ctd\u003ehttp://gdi.uba.de/arcgis/rest/services/inspire...\u003c/td\u003e\n      \u003ctd\u003eNET.DE_SN\u003c/td\u003e\n      \u003ctd\u003eSTA.DE_DESN083\u003c/td\u003e\n      \u003ctd\u003eDESN083\u003c/td\u003e\n      \u003ctd\u003eDESN083\u003c/td\u003e\n      \u003ctd\u003eurban\u003c/td\u003e\n      \u003ctd\u003eSPO.DE_DESN083_NOx_dataGroup1\u003c/td\u003e\n      \u003ctd\u003eSPP.DE_DESN083_NOx_automatic_chemi_Duration-1hour\u003c/td\u003e\n      \u003ctd\u003eSAM.DE_DESN083_1\u003c/td\u003e\n      \u003ctd\u003e...\u003c/td\u003e\n      \u003ctd\u003eNaN\u003c/td\u003e\n      \u003ctd\u003eautomatic\u003c/td\u003e\n      \u003ctd\u003ehttp://dd.eionet.europa.eu/vocabulary/aq/measu...\u003c/td\u003e\n      \u003ctd\u003ehttp://dd.eionet.europa.eu/vocabulary/aq/pollu...\u003c/td\u003e\n      \u003ctd\u003eNOX as NO2\u003c/td\u003e\n      \u003ctd\u003etraffic\u003c/td\u003e\n      \u003ctd\u003eEPSG:4979\u003c/td\u003e\n      \u003ctd\u003e12.903367\u003c/td\u003e\n      \u003ctd\u003e50.845740\u003c/td\u003e\n      \u003ctd\u003e327.0\u003c/td\u003e\n    \u003c/tr\u003e\n    \u003ctr\u003e\n      \u003cth\u003e38076\u003c/th\u003e\n      \u003ctd\u003eIT\u003c/td\u003e\n      \u003ctd\u003eIT.ISPRA.AQD\u003c/td\u003e\n      \u003ctd\u003eNET.IT255A\u003c/td\u003e\n      \u003ctd\u003eSTA.IT0702A\u003c/td\u003e\n      \u003ctd\u003e803513\u003c/td\u003e\n      \u003ctd\u003eIT0702A\u003c/td\u003e\n      \u003ctd\u003eurban\u003c/td\u003e\n      \u003ctd\u003eSPO.IT0702A_10_NDIR_1989-04-01_00:00:00\u003c/td\u003e\n      \u003ctd\u003eSPP.IT0702A_10_NDIR_1989-04-01_00:00:00\u003c/td\u003e\n      \u003ctd\u003eSAM.IT0702A_10_NDIR_1989-04-01_00:00:00\u003c/td\u003e\n      \u003ctd\u003e...\u003c/td\u003e\n      \u003ctd\u003ehttp://dd.eionet.europa.eu/vocabulary/aq/measu...\u003c/td\u003e\n      \u003ctd\u003eautomatic\u003c/td\u003e\n      \u003ctd\u003ehttp://dd.eionet.europa.eu/vocabulary/aq/measu...\u003c/td\u003e\n      \u003ctd\u003ehttp://dd.eionet.europa.eu/vocabulary/aq/pollu...\u003c/td\u003e\n      \u003ctd\u003eCO\u003c/td\u003e\n      \u003ctd\u003etraffic\u003c/td\u003e\n      \u003ctd\u003eEPSG:4979\u003c/td\u003e\n      \u003ctd\u003e10.624444\u003c/td\u003e\n      \u003ctd\u003e44.699722\u003c/td\u003e\n      \u003ctd\u003e50.0\u003c/td\u003e\n    \u003c/tr\u003e\n  \u003c/tbody\u003e\n\u003c/table\u003e\n\u003cp\u003e5 rows × 24 columns\u003c/p\u003e\n\u003c/div\u003e"
          },
          "metadata": {},
          "output_type": "execute_result",
          "execution_count": 26
        }
      ],
      "source": "metadata.sample(5)\n",
      "metadata": {
        "pycharm": {
          "metadata": false,
          "name": "#%%\n",
          "is_executing": false
        }
      }
    },
    {
      "cell_type": "code",
      "execution_count": 15,
      "outputs": [
        {
          "data": {
            "text/plain": "(140043, 18)"
          },
          "metadata": {},
          "output_type": "execute_result",
          "execution_count": 15
        }
      ],
      "source": "# Print shape of data\ndata.shape\n            \n        \n    \n",
      "metadata": {
        "pycharm": {
          "metadata": false,
          "name": "#%%\n",
          "is_executing": false
        }
      }
    }
  ],
  "metadata": {
    "language_info": {
      "codemirror_mode": {
        "name": "ipython",
        "version": 2
      },
      "file_extension": ".py",
      "mimetype": "text/x-python",
      "name": "python",
      "nbconvert_exporter": "python",
      "pygments_lexer": "ipython2",
      "version": "2.7.6"
    },
    "kernelspec": {
      "name": "python3",
      "language": "python",
      "display_name": "Python 3"
    }
  },
  "nbformat": 4,
  "nbformat_minor": 0
}